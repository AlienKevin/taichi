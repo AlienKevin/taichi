{
 "cells": [
  {
   "cell_type": "code",
   "execution_count": null,
   "id": "fa6925e5",
   "metadata": {},
   "outputs": [],
   "source": [
    "import taichi as ti\n",
    "ti.init(arch=ti.cpu)\n",
    "vec3 = ti.math.vec3"
   ]
  },
  {
   "cell_type": "code",
   "execution_count": null,
   "id": "a46d7492",
   "metadata": {
    "scrolled": true
   },
   "outputs": [],
   "source": [
    "%%time\n",
    "@ti.kernel\n",
    "def test():\n",
    "    x = ti.math.vec3([1, 2, 3])\n",
    "    print(x)\n",
    "    print(ti.sin(x))\n",
    "\n",
    "test()"
   ]
  },
  {
   "cell_type": "code",
   "execution_count": null,
   "id": "b11738f5",
   "metadata": {},
   "outputs": [],
   "source": [
    "%%time\n",
    "@ti.kernel\n",
    "def test2() -> vec3:\n",
    "    x = ti.math.vec3([1, 2, 3])\n",
    "    print(x)\n",
    "    return ti.cos(x)\n",
    "\n",
    "test2()"
   ]
  }
 ],
 "metadata": {
  "kernelspec": {
   "display_name": "Python 3 (ipykernel)",
   "language": "python",
   "name": "python3"
  },
  "language_info": {
   "codemirror_mode": {
    "name": "ipython",
    "version": 3
   },
   "file_extension": ".py",
   "mimetype": "text/x-python",
   "name": "python",
   "nbconvert_exporter": "python",
   "pygments_lexer": "ipython3",
   "version": "3.10.6"
  }
 },
 "nbformat": 4,
 "nbformat_minor": 5
}
